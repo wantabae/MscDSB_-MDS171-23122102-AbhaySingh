{
 "cells": [
  {
   "cell_type": "code",
   "execution_count": 26,
   "metadata": {},
   "outputs": [
    {
     "name": "stdout",
     "output_type": "stream",
     "text": [
      "Invalid input. Please enter a valid number.\n",
      "Input: 54g678\n",
      "Output: Five Four Six Seven Eight\n"
     ]
    }
   ],
   "source": [
    "# Prompt the user to input a number and store it as a string in the 'inp' variable.\n",
    "inp = input(\"Enter a number: \")\n",
    "\n",
    "# Create a list 'Num' that contains words for the digits from 0 to 9.\n",
    "Num = [\"Zero\", \"One\", \"Two\", \"Three\", \"Four\", \"Five\", \"Six\", \"Seven\", \"Eight\", \"Nine\"]\n",
    "\n",
    "# Initialize an empty list 'output_list' to store the words for the digits in the input number.\n",
    "output_list = []\n",
    "\n",
    "# Iterate through each character in the 'inp' string.\n",
    "for i in inp:\n",
    "    # Check if the character is a digit.\n",
    "    if i.isdigit():\n",
    "        # Convert the digit character to an integer.\n",
    "        digit = int(i)\n",
    "        \n",
    "        # Check if the integer value of the digit is between 0 and 9.\n",
    "        if 0 <= digit <= 9:\n",
    "            # Append the corresponding word for the digit to 'output_list'.\n",
    "            output_list.append(Num[digit])\n",
    "    else:\n",
    "        # If the character is not a digit, print an error message and exit the program with status code 1.\n",
    "        print(\"Invalid input. Please enter a valid number.\")\n",
    "        exit(1)\n",
    "\n",
    "# Join the words for the digits in 'output_list' with a space and store the result in 'ot'.\n",
    "ot = ' '.join(output_list)\n",
    "\n",
    "# Print the original input number and the converted output.\n",
    "print(\"Input:\", inp)\n",
    "print(\"Output:\", ot)\n"
   ]
  },
  {
   "cell_type": "code",
   "execution_count": null,
   "metadata": {},
   "outputs": [],
   "source": []
  }
 ],
 "metadata": {
  "kernelspec": {
   "display_name": "Python 3.10.5 64-bit",
   "language": "python",
   "name": "python3"
  },
  "language_info": {
   "codemirror_mode": {
    "name": "ipython",
    "version": 3
   },
   "file_extension": ".py",
   "mimetype": "text/x-python",
   "name": "python",
   "nbconvert_exporter": "python",
   "pygments_lexer": "ipython3",
   "version": "3.10.5"
  },
  "orig_nbformat": 4,
  "vscode": {
   "interpreter": {
    "hash": "aee8b7b246df8f9039afb4144a1f6fd8d2ca17a180786b69acc140d282b71a49"
   }
  }
 },
 "nbformat": 4,
 "nbformat_minor": 2
}
