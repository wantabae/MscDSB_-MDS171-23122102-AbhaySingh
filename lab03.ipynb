{
 "cells": [
  {
   "cell_type": "code",
   "execution_count": 1,
   "metadata": {},
   "outputs": [
    {
     "name": "stdout",
     "output_type": "stream",
     "text": [
      "Mean: 542.94\n",
      "Minimum: 17\n",
      "Maximum: 999\n",
      "Range: 982\n"
     ]
    }
   ],
   "source": [
    "def mean(numbers):\n",
    "    total = 0\n",
    "    count = 0\n",
    "    for num in numbers:\n",
    "        total =total + num\n",
    "        count =count + 1\n",
    "    return total / count\n",
    "\n",
    "def minimum(numbers):\n",
    "    min_value = numbers[0]\n",
    "    for num in numbers:\n",
    "        if num < min_value:\n",
    "            min_value = num\n",
    "    return min_value\n",
    "\n",
    "def maximum(numbers):\n",
    "    max_value = numbers[0]\n",
    "    for num in numbers:\n",
    "        if num > max_value:\n",
    "            max_value = num\n",
    "    return max_value\n",
    "\n",
    "def range(numbers):\n",
    "    min_value = minimum(numbers)\n",
    "    max_value = maximum(numbers)\n",
    "    return max_value - min_value\n",
    "\n",
    "# Example list of numbers\n",
    "numbers_list = [761, 123, 585, 275, 194, 840, 999, 622, 763, 40, 825, 687, 402, 338, 611, 987, 739, 95, 819, 568, 320, 126, 688, 948, 514, 223, 751, 379, 857, 767, 492, 162, 437, 934, 430, 343, 725, 511, 580, 678, 708, 823, 346, 179, 786, 663, 195, 890, 267, 502, 214, 300, 786, 961, 235, 559, 992, 919, 948, 318, 57, 787, 653, 317, 305, 172, 966, 182, 970, 17, 89, 624, 629, 595, 485, 752, 984, 978, 460, 124, 321, 256, 614, 852, 811, 561, 127, 207, 406, 615, 888, 391, 691, 470, 911, 401, 137, 600, 478, 682]\n",
    "\n",
    "# Using custom functions\n",
    "print(\"Mean:\", mean(numbers_list))\n",
    "print(\"Minimum:\", minimum(numbers_list))\n",
    "print(\"Maximum:\", maximum(numbers_list))\n",
    "print(\"Range:\", range(numbers_list))\n"
   ]
  },
  {
   "cell_type": "code",
   "execution_count": null,
   "metadata": {},
   "outputs": [],
   "source": []
  }
 ],
 "metadata": {
  "kernelspec": {
   "display_name": "Python 3.10.5 64-bit",
   "language": "python",
   "name": "python3"
  },
  "language_info": {
   "codemirror_mode": {
    "name": "ipython",
    "version": 3
   },
   "file_extension": ".py",
   "mimetype": "text/x-python",
   "name": "python",
   "nbconvert_exporter": "python",
   "pygments_lexer": "ipython3",
   "version": "3.10.5"
  },
  "orig_nbformat": 4,
  "vscode": {
   "interpreter": {
    "hash": "aee8b7b246df8f9039afb4144a1f6fd8d2ca17a180786b69acc140d282b71a49"
   }
  }
 },
 "nbformat": 4,
 "nbformat_minor": 2
}
