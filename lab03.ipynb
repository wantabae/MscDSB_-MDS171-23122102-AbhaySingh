{
 "cells": [
  {
   "cell_type": "code",
   "execution_count": 2,
   "metadata": {},
   "outputs": [
    {
     "name": "stdout",
     "output_type": "stream",
     "text": [
      "Mean: 542.94\n",
      "Minimum: 17\n",
      "Maximum: 999\n",
      "Range: 982\n"
     ]
    }
   ],
   "source": [
    "# Define a function 'mean' that calculates the mean (average) of a list of numbers.\n",
    "def mean(n):\n",
    "    total = 0\n",
    "    count = 0\n",
    "    \n",
    "    # Iterate through each number in the list.\n",
    "    for num in n:\n",
    "        total = total + num\n",
    "        count = count + 1\n",
    "    \n",
    "    # Calculate and return the mean.\n",
    "    return total / count\n",
    "\n",
    "# Define a function 'minimum' that finds the minimum value in a list of numbers.\n",
    "def minimum(n):\n",
    "    min_value = n[0]\n",
    "    \n",
    "    # Iterate through each number in the list.\n",
    "    for num in n:\n",
    "        if num < min_value:\n",
    "            min_value = num\n",
    "    \n",
    "    # Return the minimum value found.\n",
    "    return min_value\n",
    "\n",
    "# Define a function 'maximum' that finds the maximum value in a list of numbers.\n",
    "def maximum(n):\n",
    "    max_value = n[0]\n",
    "    \n",
    "    # Iterate through each number in the list.\n",
    "    for num in n:\n",
    "        if num > max_value:\n",
    "            max_value = num\n",
    "    \n",
    "    # Return the maximum value found.\n",
    "    return max_value\n",
    "\n",
    "# Define a function 'range' that calculates the range (difference between max and min) of a list of numbers.\n",
    "def range(n):\n",
    "    min_value = minimum(n)\n",
    "    max_value = maximum(n)\n",
    "    \n",
    "    # Calculate and return the range.\n",
    "    return max_value - min_value\n",
    "\n",
    "# Create a list 'number' containing a set of numeric values.\n",
    "\n",
    "number = [761, 123, ...]  # (omitting most values for brevity)\n",
    "\n",
    "# Calculate and print the mean, minimum, maximum, and range of the 'number' list.\n",
    "print(\"Mean:\", mean(number))\n",
    "print(\"Minimum:\", minimum(number))\n",
    "print(\"Maximum:\", maximum(number))\n",
    "print(\"Range:\", range(number))\n",
    "\n"
   ]
  },
  {
   "cell_type": "code",
   "execution_count": null,
   "metadata": {},
   "outputs": [],
   "source": []
  }
 ],
 "metadata": {
  "kernelspec": {
   "display_name": "Python 3.10.5 64-bit",
   "language": "python",
   "name": "python3"
  },
  "language_info": {
   "codemirror_mode": {
    "name": "ipython",
    "version": 3
   },
   "file_extension": ".py",
   "mimetype": "text/x-python",
   "name": "python",
   "nbconvert_exporter": "python",
   "pygments_lexer": "ipython3",
   "version": "3.10.5"
  },
  "orig_nbformat": 4,
  "vscode": {
   "interpreter": {
    "hash": "aee8b7b246df8f9039afb4144a1f6fd8d2ca17a180786b69acc140d282b71a49"
   }
  }
 },
 "nbformat": 4,
 "nbformat_minor": 2
}
