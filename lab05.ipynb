{
 "cells": [
  {
   "cell_type": "code",
   "execution_count": 3,
   "metadata": {},
   "outputs": [
    {
     "name": "stdout",
     "output_type": "stream",
     "text": [
      "The number of vowels in the given string is:: 2\n",
      "The percentage of vowels present in the string is:: 18.181818181818183\n"
     ]
    }
   ],
   "source": [
    "# store vowels\n",
    "vowel=['a','e','i','o','u']\n",
    "# storing the count of vowels\n",
    "count=0\n",
    "#taking input from the user\n",
    "user_input=input(\"Enter the string\")\n",
    "# length of the string for percentage\n",
    "string=len(user_input)\n",
    "# itirates through the string and checks for the vowels\n",
    "for letter in user_input:\n",
    "    if letter in vowel:\n",
    "        count = count+1\n",
    "# calculates the percentage of vowels present in the string\n",
    "percent=count*100/string\n",
    "print(\"The number of vowels in the given string is::\",count)\n",
    "print(\"The percentage of vowels present in the string is::\",percent)\n"
   ]
  },
  {
   "cell_type": "code",
   "execution_count": null,
   "metadata": {},
   "outputs": [],
   "source": []
  }
 ],
 "metadata": {
  "kernelspec": {
   "display_name": "Python 3.10.5 64-bit",
   "language": "python",
   "name": "python3"
  },
  "language_info": {
   "codemirror_mode": {
    "name": "ipython",
    "version": 3
   },
   "file_extension": ".py",
   "mimetype": "text/x-python",
   "name": "python",
   "nbconvert_exporter": "python",
   "pygments_lexer": "ipython3",
   "version": "3.10.5"
  },
  "orig_nbformat": 4,
  "vscode": {
   "interpreter": {
    "hash": "aee8b7b246df8f9039afb4144a1f6fd8d2ca17a180786b69acc140d282b71a49"
   }
  }
 },
 "nbformat": 4,
 "nbformat_minor": 2
}
