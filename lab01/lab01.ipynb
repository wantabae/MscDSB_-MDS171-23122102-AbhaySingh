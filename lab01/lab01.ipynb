{
 "cells": [
  {
   "cell_type": "code",
   "execution_count": 3,
   "metadata": {},
   "outputs": [
    {
     "name": "stdout",
     "output_type": "stream",
     "text": [
      "abhay\n",
      "abhay\n"
     ]
    }
   ],
   "source": [
    "# Define a function named 'nm' that takes two parameters: 'name' and 'times'.\n",
    "def nm(name, times):\n",
    "    # Use a for loop to iterate 'times' number of times.\n",
    "    for i in range(times):\n",
    "        # Inside the loop, print the 'name' parameter.\n",
    "        print(name)\n",
    "# Prompt the user to input a name and store it in the 'name' variable.\n",
    "name = input(\"Enter a name: \")\n",
    "# Prompt the user to input a number of times to print the name and store it in the 'times' variable.\n",
    "times = int(input(\"Enter the number of times to print: \"))\n",
    "# Call the 'nm' function with the 'name' and 'times' variables as arguments.\n",
    "nm(name, times)\n"
   ]
  },
  {
   "cell_type": "code",
   "execution_count": null,
   "metadata": {},
   "outputs": [],
   "source": []
  }
 ],
 "metadata": {
  "kernelspec": {
   "display_name": "Python 3.10.5 64-bit",
   "language": "python",
   "name": "python3"
  },
  "language_info": {
   "codemirror_mode": {
    "name": "ipython",
    "version": 3
   },
   "file_extension": ".py",
   "mimetype": "text/x-python",
   "name": "python",
   "nbconvert_exporter": "python",
   "pygments_lexer": "ipython3",
   "version": "3.10.5"
  },
  "orig_nbformat": 4,
  "vscode": {
   "interpreter": {
    "hash": "aee8b7b246df8f9039afb4144a1f6fd8d2ca17a180786b69acc140d282b71a49"
   }
  }
 },
 "nbformat": 4,
 "nbformat_minor": 2
}
