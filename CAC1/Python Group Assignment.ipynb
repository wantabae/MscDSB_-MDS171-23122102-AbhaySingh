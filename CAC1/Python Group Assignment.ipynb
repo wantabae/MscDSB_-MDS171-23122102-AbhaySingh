{
  "cells": [
    {
      "cell_type": "code",
      "source": [
        "# Use List to show the expenses where the 4 entries show expenses for each one for one month, as the project is for 4 months so these are the expenses\n",
        "workers_wages = [50000, 60000, 70000, 80000]\n",
        "material_costs = [100000, 120000, 140000, 160000]\n",
        "food_costs = [10000, 15000, 20000, 25000]\n",
        "safety_costs = [20000, 25000, 30000, 35000]\n",
        "\n",
        "# Total expenses for the project for 4 months undergone by Darwin group for Lavasa redevelopment\n",
        "total_expenses = sum(workers_wages) + sum(material_costs) + sum(food_costs) + sum(safety_costs)\n",
        "print(total_expenses)\n",
        "\n",
        "# Use Function to calculate additional expenses to add, if any for the project depending like transportation\n",
        "def add_expenses():\n",
        "    transportation_cost = int(input(\"Enter transportation cost: \"))\n",
        "    food_cost = int(input(\"Enter food cost: \"))\n",
        "    safety_cost = int(input(\"Enter safety equipment cost: \"))\n",
        "    total_expenses = sum(workers_wages) + sum(material_costs) + food_cost + safety_cost + transportation_cost\n",
        "    return total_expenses\n",
        "\n",
        "# Use Conditional Statements to check should the project be accepted or rejected, considering 10% Profit.\n",
        "def check_project(price):\n",
        "    if price >= total_expenses:\n",
        "        print(\"Project accepted!\")\n",
        "    else:\n",
        "        print(\"Project rejected.\")\n",
        "\n",
        "\n",
        "# Enter the proposed price for the project\n",
        "price = int(input(\"Enter project price: \"))\n",
        "\n",
        "# Check is project profitable\n",
        "check_project(price)\n",
        "\n",
        "# Ask for additional expenses if any\n",
        "more_expenses = input(\"Do you have additional expenses? (y/n) \")\n",
        "while more_expenses == 'y':\n",
        "    total_expenses = add_expenses()\n",
        "    check_project(price)\n",
        "    break"
      ],
      "metadata": {
        "id": "xm1x4G0yeAew",
        "outputId": "4eda4a0f-8f68-431c-8647-580cf1f42fdd",
        "colab": {
          "base_uri": "https://localhost:8080/"
        }
      },
      "execution_count": 1,
      "outputs": [
        {
          "output_type": "stream",
          "name": "stdout",
          "text": [
            "960000\n",
            "Enter project price: 1200000\n",
            "Project accepted!\n",
            "Do you have additional expenses? (y/n) y\n",
            "Enter transportation cost: 20000\n",
            "Enter food cost: 45000\n",
            "Enter safety equipment cost: 50000\n",
            "Project accepted!\n"
          ]
        }
      ]
    },
    {
      "cell_type": "code",
      "source": [],
      "metadata": {
        "id": "PyZ2W0X1djWq"
      },
      "execution_count": null,
      "outputs": []
    }
  ],
  "metadata": {
    "colab": {
      "name": "Welcome To Colaboratory",
      "toc_visible": true,
      "provenance": []
    },
    "kernelspec": {
      "display_name": "Python 3",
      "name": "python3"
    }
  },
  "nbformat": 4,
  "nbformat_minor": 0
}