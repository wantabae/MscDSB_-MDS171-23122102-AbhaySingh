{
 "cells": [
  {
   "cell_type": "code",
   "execution_count": 1,
   "metadata": {},
   "outputs": [
    {
     "name": "stdout",
     "output_type": "stream",
     "text": [
      "Results for the first 5 rows:\n",
      "Item: Bread, Quantity: 2, Total Cost: 16.22\n",
      "Item: Bread, Quantity: 2, Total Cost: 16.22\n",
      "Item: Milk, Quantity: 6, Total Cost: 24.96\n",
      "Item: Coffee, Quantity: 7, Total Cost: 58.73\n",
      "Item: Potato, Quantity: 10, Total Cost: 49.7\n",
      "\n",
      "Results for the last 10 rows:\n",
      "Item: Walnut, Quantity: 4, Total Cost: 16.6\n",
      "Item: Coffee, Quantity: 7, Total Cost: 58.73\n",
      "Item: Flour, Quantity: 4, Total Cost: 25.56\n",
      "Item: Ginger, Quantity: 10, Total Cost: 13.1\n",
      "Item: Potato, Quantity: 10, Total Cost: 49.7\n",
      "Item: Milk, Quantity: 6, Total Cost: 24.96\n",
      "Item: Milk, Quantity: 6, Total Cost: 24.96\n",
      "Item: Almond, Quantity: 3, Total Cost: 13.02\n",
      "Item: Bread, Quantity: 2, Total Cost: 16.22\n",
      "Item: Potato, Quantity: 10, Total Cost: 49.7\n",
      "\n",
      "Total cost for each unique item:\n",
      "Item Name: Milk, Total Quantity: 84, Total Cost: 349.44\n",
      "Item Name: Potato, Total Quantity: 80, Total Cost: 397.59999999999997\n",
      "Item Name: Bread, Total Quantity: 26, Total Cost: 210.85999999999999\n",
      "Item Name: Onion, Total Quantity: 48, Total Cost: 289.44\n",
      "Item Name: Tomato, Total Quantity: 8, Total Cost: 62.56\n",
      "Item Name: Almond, Total Quantity: 39, Total Cost: 169.26000000000002\n",
      "Item Name: Coffee, Total Quantity: 70, Total Cost: 587.3000000000001\n",
      "Item Name: Flour, Total Quantity: 32, Total Cost: 204.48\n",
      "Item Name: Ginger, Total Quantity: 90, Total Cost: 117.89999999999998\n",
      "Item Name: Walnut, Total Quantity: 60, Total Cost: 248.99999999999994\n",
      "\n",
      "Minimum and Maximum Prices for Each Item Sold:\n",
      "Item: Flour, Min Price: 6.39, Max Price: 6.39\n",
      "Item: Bread, Min Price: 8.11, Max Price: 8.11\n",
      "Item: Walnut, Min Price: 4.15, Max Price: 4.15\n",
      "Item: Almond, Min Price: 4.34, Max Price: 4.34\n",
      "Item: Coffee, Min Price: 8.39, Max Price: 8.39\n",
      "Item: Potato, Min Price: 4.97, Max Price: 4.97\n",
      "Item: Onion, Min Price: 6.03, Max Price: 6.03\n",
      "Item: Ginger, Min Price: 1.31, Max Price: 1.31\n",
      "Item: Tomato, Min Price: 7.82, Max Price: 7.82\n",
      "Item: Milk, Min Price: 4.16, Max Price: 4.16\n"
     ]
    }
   ],
   "source": [
    "import random\n",
    "\n",
    "# Creating lists of items, quantities, and prices\n",
    "items = [\"Flour\", \"Bread\", \"Walnut\", \"Almond\", \"Coffee\", \"Potato\", \"Onion\", \"Ginger\", \"Tomato\", \"Milk\"]\n",
    "quantities = [random.randint(1, 10) for _ in range(10)]\n",
    "prices = [round(random.uniform(1, 10), 2) for _ in range(10)]\n",
    "\n",
    "# Create and write to a CSV-like text file\n",
    "with open('grocery.txt', 'w') as txtfile:\n",
    "    txtfile.write(\"Item,Quantity,UnitPrice,TotalCost\\n\")\n",
    "\n",
    "    for _ in range(100):\n",
    "        r1 = random.randint(0, 9)\n",
    "        quantity = quantities[r1]\n",
    "        price_per_unit = prices[r1]\n",
    "        total_cost = round(quantity * price_per_unit, 2)\n",
    "        txtfile.write(f\"{items[r1]},{quantity},{price_per_unit},{total_cost}\\n\")\n",
    "\n",
    "# Read the text file and print results\n",
    "with open('grocery.txt', 'r') as txtfile:\n",
    "    next(txtfile)  # Exclude the row that contains headers\n",
    "\n",
    "    # Initialize lists to store data\n",
    "    rows = [line.strip().split(',') for line in txtfile]\n",
    "    unique_items = set([row[0] for row in rows])\n",
    "\n",
    "    # Print results for the first 5 rows and last 10 rows\n",
    "    print(\"Results for the first 5 rows:\")\n",
    "    for row in rows[:5]:\n",
    "        print(f\"Item: {row[0]}, Quantity: {row[1]}, Total Cost: {row[3]}\")\n",
    "\n",
    "    print(\"\\nResults for the last 10 rows:\")\n",
    "    for row in rows[-10:]:\n",
    "        print(f\"Item: {row[0]}, Quantity: {row[1]}, Total Cost: {row[3]}\")\n",
    "\n",
    "    # Calculate and print total cost for each unique item\n",
    "    print(\"\\nTotal cost for each unique item:\")\n",
    "    for item in unique_items:\n",
    "        total_quantity = sum(int(row[1]) for row in rows if row[0] == item)\n",
    "        total_cost = sum(float(row[3]) for row in rows if row[0] == item)\n",
    "        print(f\"Item Name: {item}, Total Quantity: {total_quantity}, Total Cost: {total_cost}\")\n",
    "\n",
    "    # Calculate and print min and max prices for each item sold\n",
    "    print(\"\\nMinimum and Maximum Prices for Each Item Sold:\")\n",
    "    for item in items:\n",
    "        item_prices = [float(row[2]) for row in rows if row[0] == item]\n",
    "        if item_prices:\n",
    "            min_price = min(item_prices)\n",
    "            max_price = max(item_prices)\n",
    "            print(f\"Item: {item}, Min Price: {min_price}, Max Price: {max_price}\")\n"
   ]
  },
  {
   "cell_type": "code",
   "execution_count": null,
   "metadata": {},
   "outputs": [],
   "source": []
  }
 ],
 "metadata": {
  "kernelspec": {
   "display_name": "Python 3.10.5 64-bit",
   "language": "python",
   "name": "python3"
  },
  "language_info": {
   "codemirror_mode": {
    "name": "ipython",
    "version": 3
   },
   "file_extension": ".py",
   "mimetype": "text/x-python",
   "name": "python",
   "nbconvert_exporter": "python",
   "pygments_lexer": "ipython3",
   "version": "3.10.5"
  },
  "orig_nbformat": 4,
  "vscode": {
   "interpreter": {
    "hash": "aee8b7b246df8f9039afb4144a1f6fd8d2ca17a180786b69acc140d282b71a49"
   }
  }
 },
 "nbformat": 4,
 "nbformat_minor": 2
}
