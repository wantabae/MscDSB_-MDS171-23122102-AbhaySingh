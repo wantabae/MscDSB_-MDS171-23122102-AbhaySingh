{
 "cells": [
  {
   "cell_type": "code",
   "execution_count": 6,
   "metadata": {},
   "outputs": [],
   "source": [
    "# Define a function 'shop' that takes several parameters and appends order information to a text file.\n",
    "def shop(name, consumer, phone, price, product):\n",
    "    # Define the filename for the text file where the order information will be stored.\n",
    "    filename = \"Order.txt\"\n",
    "     # Open the file in \"a+\" mode (append mode) so that new data is added to the end of the file.\n",
    "    with open(filename, \"a+\") as file:\n",
    "        # Write the order information to the file, including name, consumer number, phone number, price, and product.\n",
    "        file.write(\"\\nName: \" + name)\n",
    "        file.write(\"\\nConsumer_no.: \" + consumer)\n",
    "        file.write(\"\\nPhone_no.: \" + phone)\n",
    "        file.write(\"\\nPrice: $\" + price)\n",
    "        file.write(\"\\nProduct: \" + product)\n",
    "# Prompt the user to input various details related to the order.\n",
    "Name = input(\"Enter the name: \")\n",
    "Cons = input(\"Enter the consumer number: \")\n",
    "phone = input(\"Enter the phone number: \")\n"
   ]
  },
  {
   "cell_type": "code",
   "execution_count": null,
   "metadata": {},
   "outputs": [],
   "source": []
  }
 ],
 "metadata": {
  "kernelspec": {
   "display_name": "Python 3.10.5 64-bit",
   "language": "python",
   "name": "python3"
  },
  "language_info": {
   "codemirror_mode": {
    "name": "ipython",
    "version": 3
   },
   "file_extension": ".py",
   "mimetype": "text/x-python",
   "name": "python",
   "nbconvert_exporter": "python",
   "pygments_lexer": "ipython3",
   "version": "3.10.5"
  },
  "orig_nbformat": 4,
  "vscode": {
   "interpreter": {
    "hash": "aee8b7b246df8f9039afb4144a1f6fd8d2ca17a180786b69acc140d282b71a49"
   }
  }
 },
 "nbformat": 4,
 "nbformat_minor": 2
}
